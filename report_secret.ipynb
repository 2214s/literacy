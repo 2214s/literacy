{
  "nbformat": 4,
  "nbformat_minor": 0,
  "metadata": {
    "colab": {
      "provenance": [],
      "include_colab_link": true
    },
    "kernelspec": {
      "name": "python3",
      "display_name": "Python 3"
    },
    "language_info": {
      "name": "python"
    }
  },
  "cells": [
    {
      "cell_type": "markdown",
      "metadata": {
        "id": "view-in-github",
        "colab_type": "text"
      },
      "source": [
        "<a href=\"https://colab.research.google.com/github/2214s/literacy/blob/main/report_secret.ipynb\" target=\"_parent\"><img src=\"https://colab.research.google.com/assets/colab-badge.svg\" alt=\"Open In Colab\"/></a>"
      ]
    },
    {
      "cell_type": "markdown",
      "source": [
        "### 実習1：暗号\n",
        "\n",
        "教員だけが読めるように暗号化したファイルを作り，公開する．公開しても大丈夫なのは，教員だけが読めるように暗号化するから．\n",
        "\n",
        "学生番号をファイルreportに書き込む．学生番号が123456の場合の例を示す．**番号を書き換えてから実行すること．**"
      ],
      "metadata": {
        "id": "5zzVkIgA8a2K"
      }
    },
    {
      "cell_type": "code",
      "source": [
        "!echo 24G3069 > report\n",
        "!cat report #確認"
      ],
      "metadata": {
        "id": "U7tA_e0E8KUq",
        "outputId": "24a7db1a-dd3d-4701-e8d9-eca85af70c7c",
        "colab": {
          "base_uri": "https://localhost:8080/"
        }
      },
      "execution_count": 6,
      "outputs": [
        {
          "output_type": "stream",
          "name": "stdout",
          "text": [
            "24G3069\n"
          ]
        }
      ]
    },
    {
      "cell_type": "code",
      "source": [
        "#教員の公開鍵（yabuki-public.pem）を取得する．\n",
        "!wget --quiet https://raw.githubusercontent.com/ybktr/literacy/main/yabuki-public.pem"
      ],
      "metadata": {
        "id": "6QkRraX-AB6C"
      },
      "execution_count": 7,
      "outputs": []
    },
    {
      "cell_type": "markdown",
      "source": [
        "教員の公開鍵を使って，reportを暗号化し，ファイルreport-secretを作る．"
      ],
      "metadata": {
        "id": "oGy3H5gF89zh"
      }
    },
    {
      "cell_type": "code",
      "source": [
        "!openssl pkeyutl -encrypt -pubin -inkey yabuki-public.pem -in report -out report-secret\n",
        "!cat report-secret"
      ],
      "metadata": {
        "id": "PbEhSdTw87zr",
        "outputId": "e65c8253-d59a-4de2-fdcb-30fcb34b26cc",
        "colab": {
          "base_uri": "https://localhost:8080/"
        }
      },
      "execution_count": 9,
      "outputs": [
        {
          "output_type": "stream",
          "name": "stdout",
          "text": [
            "'\u0000�kߣ���\n",
            "�t���(�\u0002�d\u00013+u�w�x5�7jx���b�i̻�o\b�����,���=�\u001eA�^ܜ>������e�yaw��\u00036y�l��n���z��w\u0012\u0006�p\u0002���X�\u0003Ve\u00141�\\+���U@�X|/7t�\u0003�w,-"
          ]
        }
      ]
    },
    {
      "cell_type": "code",
      "source": [],
      "metadata": {
        "id": "dpdcAQdUXkEz"
      },
      "execution_count": null,
      "outputs": []
    },
    {
      "cell_type": "markdown",
      "source": [
        "ファイルreport-secretをGitHubで公開し，そのURLを報告する．（まずreport-secretを自分のPCにダウンロードしてから，GitHubにpushするといい．）\n",
        "\n",
        "URLの形式: https://ユーザ名.github.io/literacy/report-secret"
      ],
      "metadata": {
        "id": "2hpfnZ9M9vPZ"
      }
    },
    {
      "cell_type": "markdown",
      "source": [
        "### 実習2：デジタル署名\n",
        "\n",
        "3個のメッセージとデジタル署名を取得する．"
      ],
      "metadata": {
        "id": "3QE8XO5W7tqh"
      }
    },
    {
      "cell_type": "code",
      "source": [
        "!rm -f message*\n",
        "!wget --quiet https://raw.githubusercontent.com/ybktr/literacy/main/message-signature\n",
        "!wget --quiet https://raw.githubusercontent.com/ybktr/literacy/main/message1\n",
        "!wget --quiet https://raw.githubusercontent.com/ybktr/literacy/main/message2\n",
        "!wget --quiet https://raw.githubusercontent.com/ybktr/literacy/main/message3"
      ],
      "metadata": {
        "id": "DD8VHOMH7ZQg"
      },
      "execution_count": null,
      "outputs": []
    },
    {
      "cell_type": "markdown",
      "source": [
        "3個のメッセージのうちで，矢吹が書いたものだと確認できるのはどれか．"
      ],
      "metadata": {
        "id": "25IXIyGrorvr"
      }
    },
    {
      "cell_type": "code",
      "source": [],
      "metadata": {
        "id": "YVFv3nV8GOLQ",
        "outputId": "6a939637-2a86-4174-f3ba-eea1809b0603",
        "colab": {
          "base_uri": "https://localhost:8080/"
        }
      },
      "execution_count": null,
      "outputs": [
        {
          "output_type": "stream",
          "name": "stdout",
          "text": [
            "Could not open file or uri for loading private key from alice-private.pem\n",
            "408734825C7C0000:error:16000069:STORE routines:ossl_store_get0_loader_int:unregistered scheme:../crypto/store/store_register.c:237:scheme=file\n",
            "408734825C7C0000:error:80000002:system library:file_open:No such file or directory:../providers/implementations/storemgmt/file_store.c:267:calling stat(alice-private.pem)\n",
            "pkeyutl: Error initializing context\n"
          ]
        }
      ]
    }
  ]
}